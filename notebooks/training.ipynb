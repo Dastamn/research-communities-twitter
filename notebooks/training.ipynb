{
  "nbformat": 4,
  "nbformat_minor": 2,
  "metadata": {
    "colab": {
      "name": "pfe_2.ipynb",
      "provenance": [],
      "collapsed_sections": []
    },
    "kernelspec": {
      "name": "python3",
      "display_name": "Python 3"
    },
    "language_info": {
      "name": "python"
    },
    "accelerator": "GPU"
  },
  "cells": [
    {
      "cell_type": "code",
      "execution_count": null,
      "source": [
        "!mkdir data"
      ],
      "outputs": [],
      "metadata": {
        "id": "NsDPW3EepCzm"
      }
    },
    {
      "cell_type": "code",
      "execution_count": null,
      "source": [
        "!pip install -q torch-scatter -f https://pytorch-geometric.com/whl/torch-1.9.0+cu102.html\r\n",
        "!pip install -q torch-sparse -f https://pytorch-geometric.com/whl/torch-1.9.0+cu102.html\r\n",
        "!pip install -q torch-geometric"
      ],
      "outputs": [],
      "metadata": {
        "id": "rjQTdEgopH7j",
        "colab": {
          "base_uri": "https://localhost:8080/"
        },
        "outputId": "f804b7dc-0661-42b7-9a41-087a79a73f0d"
      }
    },
    {
      "cell_type": "code",
      "execution_count": null,
      "source": [
        "import torch\r\n",
        "import torch.nn.functional as F\r\n",
        "import torch.optim as optim\r\n",
        "import torch.nn as nn\r\n",
        "\r\n",
        "from torch_geometric.data import Data\r\n",
        "from torch_geometric.nn import GCNConv\r\n",
        "\r\n",
        "from sklearn.model_selection import train_test_split\r\n",
        "from sklearn.metrics import recall_score, f1_score, accuracy_score, precision_score\r\n",
        "\r\n",
        "import pandas as pd\r\n",
        "import networkx as nx\r\n",
        "import numpy as np\r\n",
        "import matplotlib.pyplot as plt\r\n",
        "\r\n",
        "device = torch.device('cuda') if torch.cuda.is_available() else torch.device('cpu')\r\n",
        "device"
      ],
      "outputs": [],
      "metadata": {
        "colab": {
          "base_uri": "https://localhost:8080/"
        },
        "id": "OGfPfGCEpJuI",
        "outputId": "c2de8f0a-1dc3-45d8-8799-e18ea721c3d4"
      }
    },
    {
      "cell_type": "code",
      "execution_count": null,
      "source": [
        "# build edge index\r\n",
        "edge_list = pd.read_csv('data/edges_1.5.csv')\r\n",
        "edge_list = edge_list.to_numpy()\r\n",
        "edge_index = torch.tensor(edge_list, dtype=torch.long).t().to(device)\r\n",
        "print('edge_index', edge_index.shape)"
      ],
      "outputs": [],
      "metadata": {
        "colab": {
          "base_uri": "https://localhost:8080/"
        },
        "id": "_7Hbqt4spNMf",
        "outputId": "a724f56b-0400-4db0-d21a-74a8474a82aa"
      }
    },
    {
      "cell_type": "code",
      "execution_count": null,
      "source": [
        "df = pd.read_csv('data/features_1.5_std_all.csv')\r\n",
        "\r\n",
        "# prepare labels\r\n",
        "y = df[['researcher']]\r\n",
        "y = y.to_numpy()\r\n",
        "y = torch.tensor(y, dtype=torch.long).squeeze().to(device)\r\n",
        "print('y', y.shape)\r\n",
        "\r\n",
        "# prepare features\r\n",
        "x = df.drop(['id', 'researcher'], axis = 1)\r\n",
        "x = x.to_numpy()\r\n",
        "x = torch.tensor(x, dtype=torch.float).to(device)\r\n",
        "print('x', x.shape)"
      ],
      "outputs": [],
      "metadata": {
        "colab": {
          "base_uri": "https://localhost:8080/"
        },
        "id": "Iq1dL-9kpNr2",
        "outputId": "4fddfb0d-eb79-4d9c-b316-b5ca23e03532"
      }
    },
    {
      "cell_type": "code",
      "execution_count": null,
      "source": [
        "# build Data object\r\n",
        "data = Data(\r\n",
        "    x=x,\r\n",
        "    edge_index=edge_index,\r\n",
        "    y=y\r\n",
        ")\r\n",
        "data"
      ],
      "outputs": [],
      "metadata": {
        "colab": {
          "base_uri": "https://localhost:8080/"
        },
        "id": "ANYqxr0D0GkT",
        "outputId": "01f9662b-25e7-4989-fa29-f9204dd1cca3"
      }
    },
    {
      "cell_type": "code",
      "execution_count": null,
      "source": [
        "def plot_data(data):\r\n",
        "    edges_raw = data.edge_index.cpu().numpy()\r\n",
        "    edges = [(x, y) for x, y in zip(edges_raw[0, :], edges_raw[1, :])]\r\n",
        "    labels = data.y.cpu().numpy()\r\n",
        "\r\n",
        "    G = nx.Graph()\r\n",
        "    G.add_nodes_from(list(range(np.max(edges_raw))))\r\n",
        "    G.add_edges_from(edges)\r\n",
        "    plt.subplot(111)\r\n",
        "    options = {\r\n",
        "                'node_size': 30,\r\n",
        "                'width': 0.2,\r\n",
        "    }\r\n",
        "    nx.draw(G, with_labels=False, node_color=labels, cmap=plt.cm.tab10, font_weight='bold', layout=nx.spring_layout(G, k=0.15, iterations=20), **options)\r\n",
        "    plt.show()"
      ],
      "outputs": [],
      "metadata": {
        "id": "0gCLxF9MLFv3"
      }
    },
    {
      "cell_type": "code",
      "execution_count": null,
      "source": [
        "plot_data(data)"
      ],
      "outputs": [],
      "metadata": {
        "id": "zE1ogAyJLQmY",
        "colab": {
          "base_uri": "https://localhost:8080/",
          "height": 555
        },
        "outputId": "ae05d3c3-4b5c-490e-8044-5dc1e45c0c09"
      }
    },
    {
      "cell_type": "code",
      "execution_count": null,
      "source": [
        "# GNN model\r\n",
        "class GNNStack(torch.nn.Module):\r\n",
        "    def __init__(self, input_dim, hidden_dim, output_dim, num_layers=2, dropout=0.5, weights=None):\r\n",
        "        super(GNNStack, self).__init__()\r\n",
        "        self.num_layers = num_layers\r\n",
        "        self.dropout = dropout\r\n",
        "        self.weights = weights\r\n",
        "        self.conv_layers = nn.ModuleList()\r\n",
        "        self.conv_layers.append(GCNConv(input_dim, hidden_dim))\r\n",
        "        if num_layers > 1:\r\n",
        "            for i in range(num_layers - 1):\r\n",
        "                self.conv_layers.append(GCNConv(hidden_dim, hidden_dim))\r\n",
        "        \r\n",
        "        self.post_mp = nn.Sequential(\r\n",
        "            nn.Linear(hidden_dim, hidden_dim), \r\n",
        "            nn.ReLU(),\r\n",
        "            nn.Dropout(dropout), \r\n",
        "            nn.Linear(hidden_dim, hidden_dim), \r\n",
        "            nn.ReLU(),\r\n",
        "            nn.Dropout(dropout), \r\n",
        "            nn.Linear(hidden_dim, output_dim)\r\n",
        "        )\r\n",
        "        \r\n",
        "\r\n",
        "    def forward(self, x, edge_index):\r\n",
        "        for i in range(self.num_layers):\r\n",
        "            x = self.conv_layers[i](x, edge_index)\r\n",
        "            x = F.relu(x)\r\n",
        "            x = F.dropout(x, p=0.5, training=self.training)\r\n",
        "        out = self.post_mp(x)\r\n",
        "        return x, F.log_softmax(out, dim=1)\r\n",
        "\r\n",
        "\r\n",
        "    def loss(self, pred, labels):\r\n",
        "        return F.nll_loss(pred, labels, weight=self.weights)"
      ],
      "outputs": [],
      "metadata": {
        "id": "blXsVDOdpNuf"
      }
    },
    {
      "cell_type": "code",
      "execution_count": null,
      "source": [
        "model = GNNStack(\r\n",
        "    input_dim=data.num_node_features, \r\n",
        "    hidden_dim=64, \r\n",
        "    output_dim=2, \r\n",
        "    num_layers=1,\r\n",
        "    dropout=0.5,\r\n",
        "    weights=None\r\n",
        ")\r\n",
        "\r\n",
        "if torch.cuda.is_available():\r\n",
        "    model = model.cuda(device)\r\n",
        "model"
      ],
      "outputs": [],
      "metadata": {
        "colab": {
          "base_uri": "https://localhost:8080/"
        },
        "id": "q1joMjwXpNww",
        "outputId": "f2d3e07d-e940-42e9-bbea-6c4d78a78c39"
      }
    },
    {
      "cell_type": "code",
      "execution_count": null,
      "source": [
        "lr = 0.01\r\n",
        "weight_decay = 5e-4\r\n",
        "optimizer = optim.Adam(model.parameters(), lr=lr, weight_decay=weight_decay)\r\n",
        "optimizer"
      ],
      "outputs": [],
      "metadata": {
        "colab": {
          "base_uri": "https://localhost:8080/"
        },
        "id": "sjPct9Vx0vfj",
        "outputId": "b2dfac89-b028-4449-e68e-770d61b20877"
      }
    },
    {
      "cell_type": "code",
      "execution_count": null,
      "source": [
        "# set train and test masks\r\n",
        "idx = np.arange(len(data.x))\r\n",
        "train_idx, test_idx = train_test_split(idx, test_size=.2)\r\n",
        "data.train_mask = torch.zeros(data.num_nodes, dtype=torch.bool)\r\n",
        "data.train_mask[train_idx] = 1\r\n",
        "data.test_mask = torch.zeros(data.num_nodes, dtype=torch.bool)\r\n",
        "data.test_mask[test_idx] = 1\r\n",
        "train_idx.shape, test_idx.shape"
      ],
      "outputs": [],
      "metadata": {
        "colab": {
          "base_uri": "https://localhost:8080/"
        },
        "id": "gIOmyWnp0vhm",
        "outputId": "96860970-987c-4475-a34f-7bc6ec8143f6"
      }
    },
    {
      "cell_type": "code",
      "execution_count": null,
      "source": [
        "def train(model, data, optimizer):\r\n",
        "    model.train()\r\n",
        "    optimizer.zero_grad()\r\n",
        "    _, out = model(data.x, data.edge_index)\r\n",
        "    loss = model.loss(out[data.train_mask], data.y[data.train_mask])\r\n",
        "    loss.backward()\r\n",
        "    optimizer.step()\r\n",
        "    return loss"
      ],
      "outputs": [],
      "metadata": {
        "id": "lxGKKgxj33DF"
      }
    },
    {
      "cell_type": "code",
      "execution_count": null,
      "source": [
        "@torch.no_grad()\r\n",
        "def test(model, data):\r\n",
        "    model.eval()\r\n",
        "    emb, out = model(data.x, data.edge_index)\r\n",
        "    pred = out.argmax(dim=1)\r\n",
        "    loss = model.loss(out[data.test_mask], data.y[data.test_mask])\r\n",
        "    pred_test = pred[data.test_mask].cpu()\r\n",
        "    y_test = data.y[data.test_mask].cpu()\r\n",
        "    # metrics\r\n",
        "    acc = accuracy_score(y_test, pred_test)\r\n",
        "    recall = recall_score(y_test, pred_test)\r\n",
        "    precision = precision_score(y_test, pred_test)\r\n",
        "    f1 = f1_score(y_test, pred_test)\r\n",
        "    return emb, pred, acc, precision, recall, f1, loss, pred_test, y_test"
      ],
      "outputs": [],
      "metadata": {
        "id": "JLSRUZmJ34Oj"
      }
    },
    {
      "cell_type": "code",
      "execution_count": null,
      "source": [
        "train_loss = []\r\n",
        "test_loss = []\r\n",
        "for epoch in range(1, 200):\r\n",
        "    t_loss = train(model, data, optimizer)\r\n",
        "    _, pred, acc, precision, recall, f1, v_loss, _, _ = test(model, data)\r\n",
        "    train_loss.append(t_loss)\r\n",
        "    test_loss.append(v_loss)\r\n",
        "    print(f'Epoch: {epoch:03d}, Loss: {t_loss:.4f}')\r\n",
        "\r\n",
        "plt.figure(figsize=(10,5))\r\n",
        "plt.title(\"Training and Validation Loss\")\r\n",
        "plt.plot(test_loss,label=\"val\")\r\n",
        "plt.plot(train_loss,label=\"train\")\r\n",
        "plt.xlabel(\"Iterations\")\r\n",
        "plt.ylabel(\"Loss\")\r\n",
        "plt.legend()\r\n",
        "plt.show()"
      ],
      "outputs": [],
      "metadata": {
        "colab": {
          "base_uri": "https://localhost:8080/",
          "height": 1000
        },
        "id": "b_zIqPWb0vmk",
        "outputId": "09e6023e-42a9-46ab-9c47-6919db44ede6"
      }
    },
    {
      "cell_type": "code",
      "execution_count": null,
      "source": [
        "emb, pred, acc, precision, recall, f1, loss, p_test, y_test = test(model, data)\r\n",
        "print(f'Test Accuracy: {acc:.4f}, Precision: {precision:.4f}, Recall: {recall:.4f}, F1: {f1:.4f},')"
      ],
      "outputs": [],
      "metadata": {
        "colab": {
          "base_uri": "https://localhost:8080/"
        },
        "id": "EK7YV9wi3ZgI",
        "outputId": "aafa5084-b415-4345-bf0c-a35a9ae7b957"
      }
    }
  ]
}